{
 "cells": [
  {
   "cell_type": "markdown",
   "id": "4c576122",
   "metadata": {},
   "source": [
    "## Two part consepts"
   ]
  },
  {
   "cell_type": "code",
   "execution_count": 2,
   "id": "c2867b21",
   "metadata": {},
   "outputs": [],
   "source": [
    "\n",
    "import numpy as np\n",
    "import matplotlib.pyplot as plt\n"
   ]
  },
  {
   "cell_type": "markdown",
   "id": "e01cd832",
   "metadata": {},
   "source": [
    "### Estimating Gravity and Drag from Projectile Motion\n",
    "\n",
    "**Physics Problem:**  \n",
    "We observe the vertical motion $ y(t) $ of a projectile. Can we use the data to *extract the gravitational acceleration* $ g $, and then *the air drag coefficient* $ k $?\n",
    "\n",
    "\n",
    "\n",
    "**Exercise Structure:**\n",
    "\n",
    "1. **Part 1: Estimate Gravitational Constant (No Air Resistance)**  \n",
    "   - Simulate clean projectile motion:  \n",
    "     $$\n",
    "     y(t) = v_0 t - \\frac{1}{2} g t^2\n",
    "     $$  \n",
    "   - Use OLS to fit $ y(t) $ to a quadratic model and estimate $ g $.  \n",
    "   - Discuss uncertainty and fit quality.\n",
    "\n",
    "2. **Part 2: Estimate Drag Coefficient (With Air Resistance)**  \n",
    "   - Simulate vertical motion with quadratic drag:  \n",
    "     $$\n",
    "     m \\dot{v} = -mg - k v^2\n",
    "     $$  \n",
    "   - Use numerical integration (e.g., Euler-Cromer) to simulate trajectories for various $ k $.  \n",
    "   - Define a parametric model and use **nonlinear least squares** or **gradient descent** to estimate $ k $ from noisy trajectory data.\n",
    "\n",
    "\n",
    "\n",
    "**Why it matters:**  \n",
    "This problem shows how regression can extract **fundamental laws** (like gravity) and **material-specific constants** (like air resistance) from raw motion data — exactly the kind of thing physicists and engineers need to do.\n"
   ]
  },
  {
   "cell_type": "markdown",
   "id": "4f55d5f3",
   "metadata": {},
   "source": [
    "### Tire Friction Estimation in Formula 1\n",
    "\n",
    "**Physics Problem:**  \n",
    "F1 cars navigate sharp turns at high speeds. Over multiple laps, tires degrade — reducing grip. Can we estimate how the **friction coefficient $ \\mu $** changes over time from velocity data?\n",
    "\n",
    "\n",
    "\n",
    "**Assumptions:**\n",
    "- Driver always drives at the *maximum allowed speed* through a constant-radius turn.  \n",
    "- The centripetal force equals frictional force:  \n",
    "  $$\n",
    "  m \\frac{v^2}{r} = \\mu m g \\Rightarrow \\mu = \\frac{v^2}{r g}\n",
    "  $$\n",
    "- Maybe include the downforce effect. This would mean: \n",
    "  $$\n",
    "  \\mu = \\frac{v^2}{(r g) + F_d}\n",
    "  $$  \n",
    "  where $ F_d = C_d \\cdot v²$\n",
    "\n",
    "\n",
    "\n",
    "**Exercise Structure:**\n",
    "\n",
    "1. **Part 1: Estimate $ \\mu $ from Laptime Velocity Data**  \n",
    "   - Simulate or use real data for velocity $ v_i $ through a fixed-radius turn over several laps.  \n",
    "   - Use known $ r $, compute $ \\mu_i = \\frac{v_i^2}{r g} $.  \n",
    "   - Fit a **linear regression** of $ \\mu $ vs lap number to quantify degradation.\n",
    "\n",
    "2. **Part 2: Predict Future Tire Performance**  \n",
    "   - Use linear model to extrapolate friction dropoff.  \n",
    "   - Discuss sources of noise and assumptions (e.g., constant driving behavior, no tire changes).\n",
    "\n",
    "3. **Extension:**  \n",
    "   - Add noise or variability in driving style.  \n",
    "   - Compare different tire compounds or simulate “hard” vs “soft” tires.\n",
    "\n",
    "\n",
    "\n",
    "**Why it matters:**  \n",
    "This shows how physics-based models and regression can extract **hidden performance trends** from data, critical in motorsport, materials science, and automotive engineering.\n"
   ]
  },
  {
   "cell_type": "code",
   "execution_count": null,
   "id": "59351d0c",
   "metadata": {},
   "outputs": [
    {
     "name": "stdout",
     "output_type": "stream",
     "text": [
      "Keys:\n",
      "acc_x\n",
      "acc_y\n",
      "acc_z\n",
      "brake\n",
      "dataKey\n",
      "distance\n",
      "drs\n",
      "gear\n",
      "rel_distance\n",
      "rpm\n",
      "speed\n",
      "throttle\n",
      "time\n",
      "x\n",
      "y\n",
      "z\n"
     ]
    }
   ],
   "source": []
  }
 ],
 "metadata": {
  "kernelspec": {
   "display_name": "myenv",
   "language": "python",
   "name": "python3"
  },
  "language_info": {
   "codemirror_mode": {
    "name": "ipython",
    "version": 3
   },
   "file_extension": ".py",
   "mimetype": "text/x-python",
   "name": "python",
   "nbconvert_exporter": "python",
   "pygments_lexer": "ipython3",
   "version": "3.12.7"
  }
 },
 "nbformat": 4,
 "nbformat_minor": 5
}
