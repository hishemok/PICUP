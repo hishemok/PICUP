{
 "cells": [
  {
   "cell_type": "markdown",
   "id": "25155b3a",
   "metadata": {},
   "source": [
    "## Tire Friction Analysis"
   ]
  },
  {
   "cell_type": "markdown",
   "id": "c98f97e1",
   "metadata": {},
   "source": [
    "### Learning Objectives\n",
    "- Use real-world data to calulate velocity, acceleration and curvature\n",
    "- Apply Newtonian mechanics to estimate friction coefficients\n",
    "- Build and improve a model for the physics involved\n",
    "- Compare physics-based prediction with engineering realities"
   ]
  },
  {
   "cell_type": "markdown",
   "id": "22de9bf0",
   "metadata": {},
   "source": [
    "## Introduction\n",
    "What makes a Formula 1 car stick to the road while cornering at incredible speeds, that would send a regular car flying off the track? Is it the tires? The drivers skill? Maybe something else?\n",
    "\n",
    "In this project, we will dive into the into the high-speed world of Formula 1 racing. Not as a spectator, but as a data scientist and a physicist. Using real telemetry data from the 2025 British Grand Prix, we will analyze how some of the world's best drivers navigate Corner 15 at Silverstone, one of the fastest and most demanding corners in the sport.\n",
    "\n",
    "You will calculate how fast these cars go, how tightly they turn, and how much grip their tires need to generate to avoid slipping off the track. Along the way, you'll build a physics-based model of tire grip from the ground up, starting with Newtonian mechanics and working step-by-step toward a more complete understanding.\n",
    "\n",
    "This project is not just about crunching numbers; it's about understanding the fundamental physics that allows these cars to corner at such high speeds. You will start with a simple model based on Newton's laws of motion, calculating the necessary friction coefficient for cornering. To understand how these cars defy the limits of ordinary driving, you will learn how aerodynamics fundamentally changes the game. And by building a simple model of how downforce affects tire grip, you will create a more accurate and physics-informed picture of what allows an F1 car to corner at such high speeds.\n",
    "\n",
    "This is not just a data exercise, but an expedition through model-building, scientific reasoning, and applied physics — all wrapped in the thrill of motorsport.\n"
   ]
  },
  {
   "cell_type": "markdown",
   "id": "8c09c4d2",
   "metadata": {},
   "source": [
    "![British Grand Prix Circuit with Corners](Racing_track.png)"
   ]
  },
  {
   "cell_type": "markdown",
   "id": "b3c735ae",
   "metadata": {},
   "source": [
    "## Import data\n",
    "\n",
    "In the first part of the project, we will use the data of Lando Norris' car during lap 49. This was the fastest lap of the fastest driver at the 2025 British Grand Prix. \n",
    "\n",
    "The data is stored in a pickle file named `Norris_lap49.pkl`. Once loaded, you'll find a dictionary with two keys: `time` and `distance`. The `time` key contains a list of timestamps for each data point, and the `distance` key contains a list of distances traveled by the car at each timestamp."
   ]
  },
  {
   "cell_type": "code",
   "execution_count": 3,
   "id": "5cc569a5",
   "metadata": {},
   "outputs": [],
   "source": [
    "import numpy as np\n",
    "import matplotlib.pyplot as plt\n",
    "import pickle\n",
    "\n",
    "with open('Norris_lap49.pkl', 'rb') as f:\n",
    "    Norris_data = pickle.load(f)\n",
    "\n"
   ]
  },
  {
   "cell_type": "markdown",
   "id": "87d5574c",
   "metadata": {},
   "source": [
    "## 1) Finding velocities\n",
    "\n",
    "In this section, you will calculate the velocity of Lando Norris’ car throughout the entire lap. This is the first step in analyzing how the car’s speed varies across different segments of the track.\n",
    "\n",
    "Our main focus will be corner 15, a high-speed right-hander. As shown in the image above, this corner is flanked by long straights on both sides, meaning drivers enter and exit at very high speeds. That makes it an ideal place to study tire friction, since the car must generate significant grip to stay on the track without slowing down much. Understanding the car's velocity through this section is crucial to our mission of calculating the friction coefficient required for cornering at high speeds."
   ]
  },
  {
   "cell_type": "markdown",
   "id": "21215c68",
   "metadata": {},
   "source": [
    "### 1a) Circular motion\n",
    "\n",
    "To begin our analysis, we will approximate corner 15 as a half-circle. While this is a simplification, it allows us to apply the physics of circular motion to better understand how the car maintains its trajectory through the turn.\n",
    "\n",
    "When an object moves along a circular path, it experiences centripetal acceleration, which always points toward the center of the circle. The formula for this acceleration is:\n",
    "$$ a_c = \\frac{v^2}{r} $$\n",
    "\n",
    "To produce this inward acceleration, a net force must act on the object, directed toward the center. This force is called the centripetal force, and in the case of a car on a flat track, it is provided entirely by static friction between the tires and the road:\n",
    "$$ F_f = F_c = m a_c = m \\frac{v^2}{r} $$\n",
    "In other words, friction is not opposing the car's motion, but rather causes the change in direction by pulling the car inward as it moves forward.\n",
    "\n",
    "Draw a free body diagram of the car in corner 15. Include the velocity $v$ and the friction force $F_f$ in your diagram."
   ]
  },
  {
   "cell_type": "markdown",
   "id": "4bca29b4",
   "metadata": {},
   "source": [
    "*Place your free body diagram here:*\n",
    "\n"
   ]
  },
  {
   "cell_type": "markdown",
   "id": "d37b8caf",
   "metadata": {},
   "source": [
    "### 1b) Velocity function\n",
    "\n",
    "Since the data provided, only contains the distance traveled by the car and the corresponding time, we want to extend the data to include the velocity of the car at each point in time. We will calculate the velocity by using numerical differentiation on the data. The velocity at each point can be approximated using the formula:\n",
    "$$ v_i = \\frac{d_i - d_{i-1}}{t_i - t_{i-1}} $$\n",
    "where $v_i$ is the velocity at time $t_i$, $d_i$ is the distance at time $t_i$, and $d_{i-1}$ is the distance at the previous time step $t_{i-1}$.\n",
    "\n",
    "Create a function `find_velocity(distances, times)` that takes the distance and time arrays as input and returns a new array with the calculated velocities at each time step.\n",
    "\n",
    "Then, use this function to calculate the velocity for the driver and add it to the original data dictionary under a new key called `\"velocity\"`.\n",
    "\n",
    "\n",
    "*Note: $v_0$ is undefined, so you will need to handle that case appropriately.*"
   ]
  },
  {
   "cell_type": "code",
   "execution_count": null,
   "id": "aeaea8af",
   "metadata": {},
   "outputs": [
    {
     "name": "stdout",
     "output_type": "stream",
     "text": [
      "dict_keys(['time', 'distance', 'velocity'])\n"
     ]
    }
   ],
   "source": [
    "def find_velocity(distances: np.ndarray, times: np.ndarray) -> np.ndarray:\n",
    "    \"\"\"\n",
    "    Velocities are calculated as the time derivative of the distance data.\n",
    "\n",
    "    Parameters:\n",
    "    -----------\n",
    "    distances (np.ndarray): Array of distances covered by the racer at different time intervals.\n",
    "    times (np.ndarray): Array of time intervals corresponding to the distance data.\n",
    "\n",
    "    Returns:\n",
    "    -----------\n",
    "    velocities (np.ndarray): Array of calculated velocities for the racer.\n",
    "    \"\"\"\n",
    "    \n",
    "    # Your implementation here\n",
    "\n",
    "\n",
    "    return ...\n",
    "\n",
    "# Extract distance and time data from Norris_data\n",
    "distance = Norris_data[\"distance\"]  # m \n",
    "time = ... \n",
    "\n",
    "#create a new key in the dictionary with the calculated velocities\n",
    "Norris_data[\"velocity\"] = find_velocity(distance, time) #Create a new key in the dictionary with the calculated velocities\n",
    "print(Norris_data.keys()) #print all keys in the dictionary"
   ]
  },
  {
   "cell_type": "markdown",
   "id": "a0564b6d",
   "metadata": {},
   "source": [
    "### 1c) Corner 15\n",
    "\n",
    "Now that we have the velocity data, we can focus on corner 15. We will extract the relevant data points for corner 15 and analyze the velocities at those points.\n",
    "\n",
    "In this subsection, you will need to plot the velocity of the car throughout corner 15. This will help us visualize how the car's speed changes as it navigates the turn."
   ]
  },
  {
   "cell_type": "code",
   "execution_count": null,
   "id": "37aa99f7",
   "metadata": {},
   "outputs": [],
   "source": [
    "start_of_corner_15 = 4840#m \n",
    "end_of_corner_15 = 5150#m \n",
    "\n",
    "\n",
    "# Extract distances and velocities from Norris_data\n",
    "distances = ...#m\n",
    "velocities = ...#m/s\n",
    "\n",
    "\n",
    "start_idx = np.where(distances >= start_of_corner_15)[0][0]\n",
    "end_idx = np.where(distances <= end_of_corner_15)[0][-1]\n",
    "\n",
    "## Optional to use if you want to see the velocity profile before and after the corner as well\n",
    "## If so, make sure to visualize where the corner starts and ends\n",
    "into_corner_15 = np.where(distances >= 4500)[0][0] # Some distance before the corner (4500 meters into the lap)\n",
    "out_of_corner_15 = np.where(distances <= 5500)[0][-1] # Some distance after the corner (5500 meters into the lap)\n",
    "\n",
    "# Slice the distances and velocities for corner 15\n",
    "distance_slice = ...\n",
    "velocity_slice = ...\n",
    "\n",
    "plt.figure(figsize=(10, 6))\n",
    "\n",
    "# Plot here \n",
    "\n",
    "\n",
    "plt.title(f\"Velocity Profile for Lando Norris on Lap 49\")\n",
    "plt.xlabel(\"Distance (m)\")\n",
    "plt.ylabel(\"Velocity (m/s)\")\n",
    "plt.legend()\n",
    "plt.grid()\n",
    "plt.show()\n"
   ]
  },
  {
   "cell_type": "markdown",
   "id": "c0e2702a",
   "metadata": {},
   "source": [
    "### 1d) Average velocity\n",
    "\n",
    "Before we get into the tire friction, we want to approximate some average velocity for corner 15. \n",
    "\n",
    "Using the indices `start_idx` and `end_idx` from the previous step, calculate the average velocity of Lando Norris' car in corner 15."
   ]
  },
  {
   "cell_type": "code",
   "execution_count": null,
   "id": "a7a8c778",
   "metadata": {},
   "outputs": [],
   "source": [
    "average_velocity = ...\n",
    "\n",
    "print(f\"Average velocity in corner 15: {average_velocity:.2f} m/s\")"
   ]
  },
  {
   "cell_type": "markdown",
   "id": "2a0eb84c",
   "metadata": {},
   "source": [
    "## 2) Tire friction\n",
    "\n",
    "Now that we have the velocity of the car, we can soon start our mission of finding the friction coefficients of the tires.\n",
    "\n",
    "To do this, we need to simplify the real-world scenario with a few reasonable assumptions:\n",
    "\n",
    "1. Corner 15 is a perfect half circle. This means the car maintains a constant radius of curvature throughout the turn, which allows us to apply the standard formula for centripetal acceleration and force\n",
    "2. The driver is driving at the maximum speed possible through the corner, which means that the car is at the limit of the tire's grip.\n",
    "3. The track is flat, which means that there is no banking in the corner.     \n",
    "\n",
    "With these assumptions, we can move forward and calculate the friction coefficient $μ$ by relating the friction force to the centripetal force."
   ]
  },
  {
   "cell_type": "markdown",
   "id": "2d21284b",
   "metadata": {},
   "source": [
    "### 2a) Finding $μ$\n",
    "\n",
    "In this section, we want to find a formula for the friction coefficient $μ$.\n",
    "\n",
    "The first assumption we made, allows us to use the formula for centripetal acceleration $a_c = \\frac{v^2}{r}$, in order to find the friction coefficient $μ$.\n",
    "Since the driver is driving at maximum velocity, at which the wheels can handle without slipping, we can say that the centripetal force, $F_c = ma _c$, is equal to the friction force, $F_f = μ N$. \n",
    "\n",
    "Find an expression for the friction coefficient $μ$, dependent on the average velocity, the radius and the mass.\n"
   ]
  },
  {
   "cell_type": "markdown",
   "id": "7d9b7e3f",
   "metadata": {},
   "source": [
    "Solution:\n"
   ]
  },
  {
   "cell_type": "markdown",
   "id": "fead0e02",
   "metadata": {},
   "source": [
    "### 2b) Create a function to calculate the friction coefficient\n",
    "\n",
    "As you can see from the formula above, we need to know the velocity $v$ through the corner, the gravitational acceleration $g$, and the radius $r$ of the corner to calculate the friction coefficient $μ$.\n",
    "\n",
    "We have the average velocity readily available, and luckily for us, the gravitational acceleration was established by the third General Conference on Weights and Measures in 1901 to be $g = 9.81 \\, \\text{m/s}^2$ [Standard gravity](https://en.wikipedia.org/wiki/Standard_gravity).\n",
    "\n",
    "So first you will need to find the radius of the corner. Take the formula for the circumference of a circle, $C = 2 \\pi r$, together with the fact that corner 15 is a half circle of length $L$, to find the radius $r$ of the corner. The length is the distance between the start and end of corner 15, which was given in the previous section.\n",
    "\n",
    "Then create a function `mu(v,r)` that takes in the average velocity through the corner, the radius of the corner, and returns the friction coefficient $μ$.\n",
    "\n",
    "*Note: You can use np.pi for the value of π.*"
   ]
  },
  {
   "cell_type": "code",
   "execution_count": null,
   "id": "9855afaf",
   "metadata": {},
   "outputs": [],
   "source": [
    "g = 9.81 # Acceleration due to gravity in m/s^2\n",
    "length_of_corner = ... # Length of the half circle in meters\n",
    "radius_of_corner = ... # Radius of the half circle in meters\n",
    "\n",
    "def mu(v: float, r: float) -> float:\n",
    "    \"\"\"Calculate the coefficient of friction required to maintain a given velocity in a circular path.\n",
    "    \n",
    "    Parameters:\n",
    "    ----------\n",
    "    v (float): Velocity in m/s.\n",
    "    r (float): Radius of the circular path in meters.\n",
    "\n",
    "    Returns:\n",
    "    -------\n",
    "    μ (float): Coefficient of friction required.\n",
    "\n",
    "    \"\"\"\n",
    "    return ...\n",
    "\n"
   ]
  },
  {
   "cell_type": "markdown",
   "id": "77bcea33",
   "metadata": {},
   "source": [
    "### 2c) Calculate the friction coefficient\n",
    "\n",
    "Using the average velocity through corner 15 and the radius of the corner, calculate the friction coefficient $μ$."
   ]
  },
  {
   "cell_type": "code",
   "execution_count": null,
   "id": "0b51952b",
   "metadata": {},
   "outputs": [],
   "source": [
    "coefficient_of_friction = ...\n",
    "\n",
    "print(f\"Coefficient of friction for corner 15: {coefficient_of_friction:.2f}\")"
   ]
  },
  {
   "cell_type": "markdown",
   "id": "2bfe8380",
   "metadata": {},
   "source": [
    "You might notice that the friction coefficient is quite high. We understand that F1 cars are designed to have high grip, but this value seems unrealistic. Let us proceed to the next section to find out why."
   ]
  },
  {
   "cell_type": "markdown",
   "id": "4cebf5cc",
   "metadata": {},
   "source": [
    "## 3) Improving the model\n",
    "\n",
    "In the previous section, we estimated the friction coefficient for corner 15. However, the value we obtained is likely unrealistically high. That tells us our model is missing something important.\n",
    "\n",
    "There is one thing about racing cars that we cannot ignore, and that is the downforce. Maybe the most remembered feature of the F1 cars is the huge rear wing, which is used to create downforce. The downforce is a force that pushes the car down onto the track, increasing the grip of the tires and allowing the car to go faster through corners.\n",
    "\n",
    "In other words, the car isn't relying solely on its weight to grip the road, it is also using aerodynamic pressure.\n",
    "In this section, we will extend our model to account for downforce and see how it affects the calculated friction coefficient. This will give us a more realistic and physics-informed estimate of tire grip at high speed."
   ]
  },
  {
   "cell_type": "markdown",
   "id": "ecb6a049",
   "metadata": {},
   "source": [
    "### 3a) Downforce\n",
    "\n",
    "Earlier, we assumed that the friction force alone was responsible for providing the centripetal force needed to keep the car in a circular path. However, racing cars, especially F1 cars, generate significant downforce due to their aerodynamic design. This downforce increases the normal force, and therefore increases the maximum frictional force the tires can produce without slipping.\n",
    "\n",
    "So the normal force $N$ is no longer just the weight of the car ($mg$), but also includes the downforce force $F_d$.\n",
    "$$N = mg + F_D$$\n",
    "\n",
    "where $F_D$ is the aerodynamic downforce force. A simplified model for the downforce force is:\n",
    "$$F_d = C_D v²$$\n",
    "\n",
    "where $C_D$ is an effective downforce coefficient, and $v$ is the velocity.\n",
    "\n",
    "With the redefinition of the normal force, find a new expression for the friction coefficient $μ$ that includes the downforce.\n"
   ]
  },
  {
   "cell_type": "markdown",
   "id": "d5eac0c7",
   "metadata": {},
   "source": [
    "\n",
    "Solution:\n"
   ]
  },
  {
   "cell_type": "markdown",
   "id": "2f0f3f22",
   "metadata": {},
   "source": [
    "### 3b) Create a function to calculate the new friction coefficient\n",
    "\n",
    "Now it is time to create an improved function for the friction coefficient that takes into account the downforce.\n",
    "\n",
    "Let us redefine the `mu(v,r,C_D,m)` function to include the downforce term. The new function should include the downforce coefficient $C_D$, the mass of the car $m$, the radius of the corner $r$ and the average velocity $v$.\n",
    "\n",
    "The mass of the car, including the racer, is approximately 800 kg, and the downforce coefficient $C_D$ is approximately 3.2, although it can vary between cars.\n"
   ]
  },
  {
   "cell_type": "code",
   "execution_count": 20,
   "id": "a0a801f7",
   "metadata": {},
   "outputs": [],
   "source": [
    "def mu(v: float, r: float, C_D: float = 3.2, m: float = 800) -> float:\n",
    "    \"\"\"Calculate the coefficient of friction required to maintain a given velocity in a circular path.\n",
    "    \n",
    "    Parameters:\n",
    "    ----------\n",
    "    v (float): Velocity in m/s.\n",
    "    r (float): Radius of the circular path in meters.\n",
    "    C_D (float): Drag coefficient (default is 3.2).\n",
    "    m (float): Mass of the car in kg (default is 800).\n",
    "    \n",
    "\n",
    "    Returns:\n",
    "    -------\n",
    "    μ (float): Coefficient of friction required.\n",
    "    \"\"\"\n",
    "    return ..."
   ]
  },
  {
   "cell_type": "markdown",
   "id": "aee9b1ea",
   "metadata": {},
   "source": [
    "### 3c) Calculate the new friction coefficient\n",
    "\n",
    "Now that we have updated the `mu` function to include the downforce, you can apply it and see if the new friction coefficient is more realistic."
   ]
  },
  {
   "cell_type": "code",
   "execution_count": null,
   "id": "a631e407",
   "metadata": {},
   "outputs": [
    {
     "name": "stdout",
     "output_type": "stream",
     "text": [
      "Coefficient of friction for corner 15: 1.66\n"
     ]
    }
   ],
   "source": [
    "coefficient_of_friction = ...\n",
    "\n",
    "print(f\"Coefficient of friction for corner 15: {coefficient_of_friction:.2f}\")"
   ]
  },
  {
   "cell_type": "markdown",
   "id": "629b63b5",
   "metadata": {},
   "source": [
    "Most likely, you will have found that the new friction coefficient is much lower than the previous one. This is because the downforce increases the grip of the tires, allowing the car to go faster through corners without slipping.\n",
    "\n",
    "Try googling the average friction coefficient for F1 tires, and see if your result is in the same ballpark."
   ]
  },
  {
   "cell_type": "markdown",
   "id": "51ad7b2b",
   "metadata": {},
   "source": [
    "## 4) Friction coefficient of all the racers\n",
    "\n",
    "Now that we have a function to calculate the friction coefficient, we can apply it to all the racers that managed to qualify for the final races of the British Grand Prix 2025.\n",
    "\n",
    "Below, we have imported the data for all the racers. This dataset is a nested dictionary, where each key is the name of a racer, and for each racer, there is a dictionary with the keys `distance` and `time`, which contain the distance traveled and the time taken at each point in time, respectively."
   ]
  },
  {
   "cell_type": "code",
   "execution_count": 11,
   "id": "61bc2924",
   "metadata": {},
   "outputs": [
    {
     "name": "stdout",
     "output_type": "stream",
     "text": [
      "dict_keys(['VER', 'TSU', 'HUL', 'PIA', 'NOR', 'SAI', 'OCO', 'ALO', 'LEC', 'BEA', 'HAM', 'ALB', 'STR', 'RUS', 'GAS'])\n"
     ]
    }
   ],
   "source": [
    "with open('All_racers.pkl', 'rb') as f:\n",
    "    Racing_data = pickle.load(f)\n",
    "\n",
    "print(Racing_data.keys())"
   ]
  },
  {
   "cell_type": "markdown",
   "id": "7e016a26",
   "metadata": {},
   "source": [
    "For those of us who are not familiar with the abbreviations of the racer names, here is a table with the full names of the racers:\n",
    "\n",
    "|Racer Name | Racer Key |\n",
    "|------------|-------|\n",
    "|Lando Norris| NOR   |\n",
    "|Lance Stroll| STR   |\n",
    "|Nico Hulkenberg| HUL   |\n",
    "|George Russell| RUS   |\n",
    "|Charles Leclerc| LEC   |\n",
    "|Oliver Bearman| BEA   |\n",
    "|Oscar Piastri| PIA   |\n",
    "|Max Verstappen| VER   |\n",
    "|Lewis Hamilton| HAM   |\n",
    "|Pierre Gasly| GAS   |\n",
    "|Fernando Alonso| ALO   |\n",
    "|Carlos Sainz| SAI   |\n",
    "|Alex Albon| ALB   |\n",
    "|Esteban Ocon| OCO   |"
   ]
  },
  {
   "cell_type": "markdown",
   "id": "eac95fdf",
   "metadata": {},
   "source": [
    "### 4a) Find all the velocities\n",
    "Now that we have the data, we can use the `find_velocity(data)` function we created earlier to find the velocities for all the racers."
   ]
  },
  {
   "cell_type": "code",
   "execution_count": null,
   "id": "a0ae350c",
   "metadata": {},
   "outputs": [],
   "source": [
    "\n",
    "for racer_key in Racing_data.keys():\n",
    "    distance = ...\n",
    "    time = ...\n",
    "    Racing_data[racer_key][\"velocity\"] = ...\n"
   ]
  },
  {
   "cell_type": "markdown",
   "id": "57edec10",
   "metadata": {},
   "source": [
    "### 4b) Calculate the average velocities\n",
    "\n",
    "In this section, we will calculate the average velocities for each racer throughout corner 15. Which racer was the fastest going through corner 15?"
   ]
  },
  {
   "cell_type": "code",
   "execution_count": null,
   "id": "2ccd735d",
   "metadata": {},
   "outputs": [],
   "source": [
    "for racer_key in Racing_data.keys():\n",
    "    distances = ...\n",
    "    velocities = ...\n",
    "    \n",
    "    start_idx = np.where(distances >= start_of_corner_15)[0][0]\n",
    "    end_idx = np.where(distances <= end_of_corner_15)[0][-1]\n",
    "    \n",
    "    average_velocity = ...\n",
    "    \n",
    "    print(f\"Average velocity in corner 15 for {racer_key}: {average_velocity:.2f} m/s\")\n",
    "\n",
    "    ### Save the average velocity in the racer data with the key \"average_velocity\"\n",
    "    ###Hint: You can create a new key by: Racing_data[racer_key][\"new_key\"] = new_data"
   ]
  },
  {
   "cell_type": "markdown",
   "id": "fce12ad9",
   "metadata": {},
   "source": [
    "Solution:\n"
   ]
  },
  {
   "cell_type": "markdown",
   "id": "ba40b792",
   "metadata": {},
   "source": [
    "### 4b) Calculate the friction coefficients\n",
    "\n",
    "Now, we have found the average velocities for all the racers to see who was the fastest through corner 15.\n",
    "The next thing we want to do is to calculate the friction coefficients for all the racers, using the `mu` function we created with the average velocities we just found.\n",
    "\n",
    "Find the friction coefficients for all the racers, as well as the average and the standard deviation of the friction coefficients between all the racers.\n",
    "\n",
    "*Hint: You can use the `np.mean()` and `np.std()` functions from the NumPy library to calculate the average and standard deviation of the friction coefficients.*\n"
   ]
  },
  {
   "cell_type": "code",
   "execution_count": null,
   "id": "3cd1f387",
   "metadata": {},
   "outputs": [],
   "source": [
    "mus = []\n",
    "for racer_key in Racing_data.keys():\n",
    "    #extract data from previous step\n",
    "    \n",
    "    #Find the coefficient of friction using the mu function\n",
    "\n",
    "    # Save the coefficient of friction in the list\n",
    "\n",
    "    print(f\"Coefficient of friction for {racer_key}: {coefficient_of_friction:.2f}\")\n",
    "\n",
    "mean_mu = ...\n",
    "std_mu = ...\n",
    "\n",
    "print(f\"Average coefficient of friction for all racers: {mean_mu:.2f} ± {std_mu:.2f}\")"
   ]
  }
 ],
 "metadata": {
  "kernelspec": {
   "display_name": "myenv",
   "language": "python",
   "name": "python3"
  },
  "language_info": {
   "codemirror_mode": {
    "name": "ipython",
    "version": 3
   },
   "file_extension": ".py",
   "mimetype": "text/x-python",
   "name": "python",
   "nbconvert_exporter": "python",
   "pygments_lexer": "ipython3",
   "version": "3.12.7"
  }
 },
 "nbformat": 4,
 "nbformat_minor": 5
}
