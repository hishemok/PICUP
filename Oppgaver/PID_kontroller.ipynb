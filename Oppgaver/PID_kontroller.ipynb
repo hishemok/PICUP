{
 "cells": [
  {
   "cell_type": "markdown",
   "id": "dd6d53bb",
   "metadata": {},
   "source": [
    "## PID Kontroller Simulasjon"
   ]
  },
  {
   "cell_type": "markdown",
   "id": "47f9a5b4",
   "metadata": {},
   "source": [
    "## Læringsmål\n",
    "Etter å ha gjennomført denne øvelsen vil studenten kunne:\n",
    "\n",
    "- Lage en enkel modell for en PID-kontroller (**Oppgave 1**, **Oppgave 2**)\n",
    "\n",
    "- Numerisk integrere og differensiere bevegelsen til en bevegelig kropp (**Oppgave 2**)\n",
    "\n",
    "- Implementere og analysere effektene av integral- og derivasjonstermer på systemets respons (**Oppgave 2**)\n",
    "\n",
    "- (Bonus) Utforske hvordan et mer komplekst system påvirker PID-kontrollerens oppførsel (**Oppgave 3**)"
   ]
  },
  {
   "cell_type": "markdown",
   "id": "18cb351d",
   "metadata": {},
   "source": [
    "## Introduksjon\n",
    "Små droner er nå en del av alt fra lagerautomatisering til luftfotografering. Å holde dem stabile i luften er avgjørende for suksessen. Anta at vi ønsker å holde en drone nøyaktig 10 meter over bakken. Dette virker enkelt, bare påfør nok thrust til å motvirke tyngdekraften, ikke sant?\n",
    "\n",
    "Men hvordan vet vi hvor mye thrust vi skal påføre? Og hva om omgivelsene ikke er stille? En vindkast kan dytte dronen opp eller ned, og vi må justere thrusten deretter. Hvordan gjør vi dette jevnt, uten at dronen svinger opp og ned?\n",
    "\n",
    "Dette er et vanlig problem innen <a href=\"https://en.wikipedia.org/wiki/Control_theory\">Kontroll teori</a>. For å holde dronen stabilt flyvende på riktig høyde trenger vi en metode for å justere hvor mye thrust som påføres. En metode for dette er å bruke en PID-kontroller. PID står for Proportional, Integral og Derivative, og er en type tilbakemeldingskontroller som regner ut hvor mye thrust som trengs basert på hvor langt dronen er fra ønsket høyde.\n",
    "\n",
    "Den gjør dette ved å se på tre ting:\n",
    "\n",
    "1. **Proportional (P)**: Hvor langt er dronen fra ønsket høyde akkurat nå? Hvis den er for lav, øk thrust. Hvis den er for høy, reduser thrust.\n",
    "\n",
    "2. **Integral (I)**: Har dronen vært ute av posisjon over tid? Hvis den har vært for lav lenge, øk gradvis thrust for å korrigere dette. Dette hjelper til med å fjerne eventuelle konstante avvik.\n",
    "\n",
    "3. **Derivative (D)**: Hvor raskt endrer høyden seg? Hvis dronen stiger for raskt, reduser thrust for å unngå overskytning. Hvis den faller raskt, øk thrust for å bremse fallet.\n",
    "\n",
    "Det eneste PID-kontrolleren trenger å vite, er den faktiske høyden til dronen og målhøyden. Den sammenligner kontinuerlig disse for å beregne forskjellen, kalt error, og bruker deretter P-, I- og D-komponentene for å bestemme hvor mye thrust som skal påføres.\n",
    "\n",
    "I dette prosjektet vil vi simulere en én-dimensjonal PID-kontroller som prøver å holde en drone stabil på ønsket høyde. Vi vil utforske hvordan de ulike komponentene i PID-kontrolleren påvirker responsen, og se hvordan en tilsynelatende enkel tilbakemeldingssløyfe kan gi kraftig reguleringsatferd.\n"
   ]
  },
  {
   "cell_type": "markdown",
   "id": "cd72e8f6",
   "metadata": {},
   "source": [
    "## 1. Visualisering av systemet\n",
    "Før vi kan simulere PID-kontrolleren, må vi forstå kreftene som virker på dronen. For å gjøre dette, begynner vi med å tegne et **fritt-legeme-diagram** for å visualisere disse kreftene.\n"
   ]
  },
  {
   "cell_type": "markdown",
   "id": "fcaba3ff",
   "metadata": {},
   "source": [
    "### 1 a) Fritt-legeme-diagram\n",
    "Skisser systemet og tegn et fritt-legeme-diagram av en drone som svever i en ønsket høyde \n",
    "ℎ\n",
    "h. Siden vi jobber i én dimensjon (vertikalt), kan horisontale krefter ignoreres. Dronen påvirkes av to hovedkrefter: tyngdekraften, som trekker den nedover, og thrust, som skyver den oppover. Thrust-kraften styres via dronens \"gasspedal\", som justerer hvor mye oppoverrettet kraft som påføres for å motvirke tyngdekraften.\n",
    "\n",
    "Tegn ett fritt-legeme-diagram for en lett drone og ett for en tung drone. Hva er forskjellen mellom de to?\n",
    "\n"
   ]
  },
  {
   "cell_type": "markdown",
   "id": "04d8105a",
   "metadata": {},
   "source": [
    "*Plasser diagrammet her*"
   ]
  },
  {
   "cell_type": "markdown",
   "id": "eebde739",
   "metadata": {},
   "source": [
    "### 1b) Endring i krefter\n",
    "\n",
    "De frie legeme-diagrammene ovenfor beskriver dronen når den svever stabilt på mål høyden $h$, noe som betyr at det er en balanse mellom kreftene. Men hva skjer når dronen ikke er på ved ønsket høyde? Er kreftene fortsatt de samme?\n"
   ]
  },
  {
   "cell_type": "markdown",
   "id": "0faae341",
   "metadata": {},
   "source": [
    "*Skriv svaret ditt her*"
   ]
  },
  {
   "cell_type": "markdown",
   "id": "c962d5bf",
   "metadata": {},
   "source": [
    "## 2. P-kontrolleren\n",
    "Vi starter med å implementere den proporsjonale (P) komponenten i PID-kontrolleren. En proporsjonal kontroller justerer sin utgang basert på hvor langt dronen er fra målhøyden. Det betyr at jo større avvik, desto sterkere respons.\n",
    "\n",
    "I vårt tilfelle er kontrollutgangen thrust-kraften som påføres dronen, skrevet som en funksjon av tid \n",
    "$u(t)$. Feilen er forskjellen mellom målhøyden og den nåværende høyden til dronen:\n",
    "$$\n",
    "u(t) = K_P e(t)\n",
    "$$\n",
    "hvor $K_P$ er den proporsjonale forsterkningen, $e(t)$ er feilen til tiden $t$, og $u(t)$ er den resulterende thrust-kraften.\n",
    "\n",
    "En større feil gir altså mer thrust. I denne delen skal vi se på hvordan en proporsjonal kontroller alene påvirker dronens bevegelse, og hvorfor den ofte ikke er nok alene."
   ]
  },
  {
   "cell_type": "markdown",
   "id": "d09eea76",
   "metadata": {},
   "source": [
    "### 2 a) Finne akselerasjonen\n",
    "For å simulere dronens bevegelse må vi beregne den vertikale akselerasjonen. Dette gjøres ved å finne netto kraft som virker på dronen, som er forskjellen mellom thrust-kraften og tyngdekraften. Tyngdekraften er konstant og kan representeres som $F_g = m \\cdot g$, hvor $m$ er massen til dronen og $g$ er tyngdeakselerasjonen (omtrent 9.81 m/s²). \n",
    "\n",
    "Ved å bruke Newtons andre lov $F = ma$, uttrykk dronens akselerasjon $a(t)$ som en funksjon av thrust-kraften $u(t)$ og tyngdekraften $F_g$."
   ]
  },
  {
   "cell_type": "markdown",
   "id": "80005d99",
   "metadata": {},
   "source": [
    "*Løsning:*"
   ]
  },
  {
   "cell_type": "markdown",
   "id": "5e1902fb",
   "metadata": {},
   "source": [
    "### 2 b) Implementer akselerasjonsfunksjonen\n",
    "\n",
    "Bruk uttrykket for akselerasjon, implementer funksjonen `acceleration(thrust, m, g)` som beregner den vertikale akselerasjonen til dronen.\n",
    "\n"
   ]
  },
  {
   "cell_type": "code",
   "execution_count": 1,
   "id": "303b4d17",
   "metadata": {},
   "outputs": [],
   "source": [
    "import numpy as np #numpy brukes for å lagre tall of gjøre beregninger effektivt\n",
    "import matplotlib.pyplot as plt  #matplotlib brukes for å lage grafer"
   ]
  },
  {
   "cell_type": "code",
   "execution_count": null,
   "id": "9e464355",
   "metadata": {},
   "outputs": [],
   "source": [
    "def acceleration(thrust, m, g):\n",
    "    \"\"\"\n",
    "    Calculates the net vertical acceleration of the drone.\n",
    "    \"\"\"\n",
    "    return ..."
   ]
  },
  {
   "cell_type": "markdown",
   "id": "4ad25da1",
   "metadata": {},
   "source": [
    "### 2 c) Den proporsjonale komponenten\n",
    "Nå har vi implementert en funksjon for akselerasjon. Men som du ser, avhenger akselerasjonen av thrust-kraften $u(t)$, som vi ennå ikke har definert.\n",
    "\n",
    "I denne deloppgaven ønsker vi å implementere to funksjoner:\n",
    "1. `proportional_component(K_P, error)`  som beregner thrust-kraften $u(t)$ basert på den proporsjonale forsterkningen $K_P$ og feilen $e(t)$.\n",
    "2. `error(target_height, current_height)` som beregner feilen $e(t)$ som forskjellen mellom ønsket høyde og nåværende høyde.\n",
    "\n",
    "Dette er de to siste delene vi trenger for å implementere den proporsjonale komponenten i regulatoren.\n",
    "\n"
   ]
  },
  {
   "cell_type": "code",
   "execution_count": null,
   "id": "4f652106",
   "metadata": {},
   "outputs": [],
   "source": [
    "def calculate_error(target_height, current_height):\n",
    "    \"\"\"\n",
    "    Calculates the difference between the target height and the current height of the drone.\n",
    "    \"\"\"\n",
    "    return ...\n",
    "\n",
    "def proportional_component(K_P, error):\n",
    "  \n",
    "    return ...\n"
   ]
  },
  {
   "cell_type": "markdown",
   "id": "7bea9271",
   "metadata": {},
   "source": [
    "### 2 d) Simuler den proporsjonale komponenten\n",
    "Nå som vi har alle delene på plass, er vi klare til å simulere bevegelsen til dronen ved hjelp av den proporsjonale komponenten.\n",
    "\n",
    "I kodeseksjonen nedenfor skal du implementere Euler-Cromer-metoden for å numerisk integrere hastigheten og posisjonen til dronen. Euler-Cromer-metoden er en utvidelse av Euler-metoden og er betydelig mer stabil og pålitelig for å simulere fysiske systemer når akselerasjonen er kjent.\n",
    "\n",
    "Euler-Cromer-ligningene for dette systemet er:\n",
    "\\begin{align*}\n",
    "    v(t + \\Delta t) &= v(t) + a(t) \\Delta t\\\\\n",
    "    r(t + \\Delta t) &= r(t) + v(t + \\Delta t) \\Delta t\n",
    "\\end{align*}\n",
    "hvor $v(t)$ er hastigheten ved tidspunkt $t$, $r(t)$ er posisjonen ved tidspunkt $t$, og $\\Delta t$ er tidssteget."
   ]
  },
  {
   "cell_type": "code",
   "execution_count": null,
   "id": "34f87462",
   "metadata": {},
   "outputs": [],
   "source": [
    "## initialiser systemet\n",
    "m = 1.0  # masse\n",
    "target_height = ... # ønsket posisjon E.g 10.0\n",
    "start_position = 0.0 # initial posisjon\n",
    "start_velocity = 0.0 # initial hastighet\n",
    "g = 9.81  # tyngdeakselerasjon\n",
    "K_P = ...  # proporsjonal forsterkning\n",
    "\n",
    "\n",
    "n = 500\n",
    "T = np.linspace(0, 20, n)  # tidsvektor\n",
    "dt = T[1] - T[0]  # tidssteg\n",
    "\n",
    "position = np.zeros(n)  # posisjon\n",
    "velocity = np.zeros(n)  # hastighet\n",
    "accelerations = np.zeros(n)  # akselerasjon\n",
    "position[0] = start_position  # sett initial posisjon\n",
    "velocity[0] = start_velocity  # sett initial hastighet"
   ]
  },
  {
   "cell_type": "code",
   "execution_count": null,
   "id": "2d8189ee",
   "metadata": {},
   "outputs": [],
   "source": [
    "# Euler cromer metode for numerisk integrasjon\n",
    "for i in range(1, n):\n",
    "    # Regn ut feilen mellom ønsket høyde og nåværende posisjon\n",
    "\n",
    "    # Regn ut den proporsjonale komponenten for thrust-kraften\n",
    "\n",
    "    # Beregn akselerasjonen \n",
    "\n",
    "    # Oppdater hastigheten og posisjonen ved å bruke akselerasjonen\n",
    "    ..."
   ]
  },
  {
   "cell_type": "code",
   "execution_count": null,
   "id": "2929830d",
   "metadata": {},
   "outputs": [],
   "source": [
    "# plot the results\n",
    "plt.figure(figsize=(10, 5))\n",
    "plt.plot(T, position, label='Position', color='blue')\n",
    "plt.axhline(target_height, color='red', linestyle='--', label=f'Setpoint({target_height} m)')\n",
    "plt.title('P controller: Position vs Time')\n",
    "plt.xlabel('Time (s)')\n",
    "plt.ylabel('Position (m)')\n",
    "plt.legend()\n",
    "plt.grid()\n",
    "plt.show()    "
   ]
  },
  {
   "cell_type": "markdown",
   "id": "9dbdfd26",
   "metadata": {},
   "source": [
    "Resultatene dine ser kanskje ganske dårlige ut i starten, men det er ventet. P-kontrollen er ikke veldig god til å holde dronen stabil. Derfor er neste steg å legge til den deriverte komponenten i kontrolleren.\n"
   ]
  },
  {
   "cell_type": "markdown",
   "id": "6a2b5334",
   "metadata": {},
   "source": [
    "## 3) PD-kontroller\n",
    "Vi har nettopp sett begrensningene til en P-kontroller. Den reagerer kun på den nåværende feilen, altså forskjellen mellom ønsket høyde og målt posisjon, uten å ta hensyn til hvordan feilen endrer seg over tid. Dette fører ofte til oversvingninger og oscillasjoner i systemet.\n",
    "\n",
    "For å forbedre kontrolleren introduserer vi en deriverende komponent, D, som reagerer på endringshastigheten til feilen. Dette lar kontrolleren forutse hvor systemet er på vei, ikke bare hvor det er nå. Med andre ord fungerer den deriverende komponenten som en anticiperende kontroll, som presser tilbake sterkere når feilen endrer seg raskt, og demper responsen når ting stabiliserer seg. Den tilfører effektivt demping, noe som bidrar til å jevne ut responsen og forhindre oversvingninger.\n",
    "\n",
    "Matematisk er kontrollsignalet nå proporsjonalt med både feilen og dens derivert:\n",
    "$$u(t) = K_p e(t) + K_D \\frac{∂ e(t)}{∂ t}$$\n"
   ]
  },
  {
   "cell_type": "markdown",
   "id": "374e5d1f",
   "metadata": {},
   "source": [
    "### 3 a) Forstå den deriverende komponenten\n",
    "Før vi implementerer den deriverende komponenten, la oss først prøve å forstå hvordan den påvirker systemet. Den deriverende komponenten er endringshastigheten til feilen, som kan approksimeres ved:\n",
    "$$\\frac{∂ e(t)}{∂ t} \\approx \\frac{e(t) - e(t - \\Delta t)}{\\Delta t}$$\n",
    "hvor $\\Delta t$ er tidssteget, $e(t)$ er feilen ved tidspunkt $t$, og $e(t - \\Delta t)$ er feilen ved forrige tidssteg.\n",
    "\n",
    "Tenk nå gjennom disse situasjonene:\n",
    "\n",
    "1. Hva skjer med thrust-kraften $u(t)$ når dronen er under ønsket høyde, men stiger raskt?\n",
    "\n",
    "2. Hva skjer med thrust-kraften $u(t)$ når dronen er over ønsket høyde, og faller tilbake mot den?\n",
    "\n",
    "3. Hva skjer med thrust-kraften $u(t)$ når dronen er i en stabil høyde (ikke nødvendigvis ønsket høyde)?\n",
    "\n",
    "*Tips: Tenk på fortegnet til feilen og fortegnet til dens derivert i hver situasjon.*"
   ]
  },
  {
   "cell_type": "markdown",
   "id": "8f9eebda",
   "metadata": {},
   "source": [
    "*Skriv svaret ditt her*"
   ]
  },
  {
   "cell_type": "markdown",
   "id": "dcb49ec8",
   "metadata": {},
   "source": [
    "### 3 b) Implementering av den deriverende komponenten\n",
    "Det neste vi må gjøre er å implementere derivert av feilen i simuleringen. En enkel måte å beregne derivert på er å bruke forskjellen mellom den nåværende og forrige feilen:\n",
    "$$\\frac{∂ e(t)}{∂ t} = \\frac{e(t) - e(t-1)}{Δt}$$\n",
    "Fyll ut funksjonen `derivative_component(K_D, error, previous_error, dt)` nedenfor."
   ]
  },
  {
   "cell_type": "code",
   "execution_count": null,
   "id": "b4f22144",
   "metadata": {},
   "outputs": [],
   "source": [
    "def derivative_component(K_D, current_error, previous_error, dt):\n",
    "    \"\"\"\n",
    "    Derivative term for a PID controller: K_D ⋅ (∂ e(t))/(∂ t).\n",
    "    \"\"\"\n",
    "    \n",
    "    return ..."
   ]
  },
  {
   "cell_type": "markdown",
   "id": "ca163338",
   "metadata": {},
   "source": [
    "### 3 c) Simulering av PD-kontrolleren\n",
    "Nå som du har implementert den deriverende komponenten, er du klar til å simulere dronens bevegelse ved bruk av PD-kontrolleren.\n",
    "\n",
    "Bruk Euler-Cromer-metoden for numerisk integrasjon av dronens hastighet og posisjon. PD-kontrolleren vil bruke både den proporsjonale og den deriverte komponenten for å beregne drivkraften. Lag også en plot av resultatet og observer hvordan det endrer seg sammenlignet med P-kontrolleren."
   ]
  },
  {
   "cell_type": "code",
   "execution_count": null,
   "id": "b04dce7e",
   "metadata": {},
   "outputs": [],
   "source": [
    "K_P = ...  # proporsjonal forsterkning\n",
    "K_D = ...  # derivert forsterkning\n",
    "\n",
    "position = np.zeros(n)  # posisjon\n",
    "velocity = np.zeros(n)  # hastighet\n",
    "accelerations = np.zeros(n)  # akselerasjon\n",
    "position[0] = start_position  # sett initial posisjon\n",
    "velocity[0] = start_velocity  # sett initial hastighet"
   ]
  },
  {
   "cell_type": "code",
   "execution_count": null,
   "id": "913ed967",
   "metadata": {},
   "outputs": [],
   "source": [
    "#Euler-Cromer metode for numerisk integrasjon med PD kontroller\n",
    "previous_error = ... # initialiser tidligere feil\n",
    "\n",
    "for i in range(1, n):\n",
    "    # Regn ut feil\n",
    "\n",
    "    # Regn ut kontroll input ved bruk av den proporsjonale og deriverte komponenten\n",
    "\n",
    "    # Oppdater hastighet og posisjon ved Euler-Cromer metode\n",
    "\n",
    "    # Oppdater previous_error for neste iterasjon\n",
    "    \n",
    "    ..."
   ]
  },
  {
   "cell_type": "code",
   "execution_count": 2,
   "id": "adaec332",
   "metadata": {},
   "outputs": [],
   "source": [
    "# plot resultatene"
   ]
  },
  {
   "cell_type": "markdown",
   "id": "c514522d",
   "metadata": {},
   "source": [
    "Forhåpentligvis har du nå sett en forbedring i stabiliteten til dronen. PD-kontrolleren er mye bedre til å holde dronen stabil enn når vi kun hadde P-kontrolleren. Men vi kan fortsatt se at vi ikke er helt der ennå. Igjen, ikke bekymre deg, vi vil forbedre kontrolleren en gang til ved å legge til den integrerte termen.\n"
   ]
  },
  {
   "cell_type": "markdown",
   "id": "6da723ff",
   "metadata": {},
   "source": [
    "## 4) PID-kontroller\n",
    "Vi har nå sett effekten av P- og D-leddene i kontrolleren. Selv om derivasjonsleddet hjelper ved å forutse endringer i feilen og dempe systemresponsen, er PD-kontrolleren fortsatt ikke perfekt, spesielt når det gjelder å eliminere stasjonære feil, der dronen svever på en høyde som ikke er nøyaktig den ønskede høyden.\n",
    "\n",
    "For å løse dette problemet vil vi introdusere integral-leddet, I. Integral-leddet akkumulerer feilen over tid, og \"husker\" tidligere feil. Hvis det er en vedvarende forskjell mellom målet og målingen, vil integral-leddet fortsette å vokse, og presse kontrolleren til å justere utgangen til feilen er eliminert. Denne kumulative effekten gjør at kontrolleren kan fjerne gjenværende eller statiske feil som det proporsjonale leddet alene ikke kan håndtere.\n",
    "\n",
    "Etter hvert som feilen minker, vil bidraget fra det proporsjonale leddet naturlig svekkes, men integral-leddet, som har bygget seg opp over tid, fortsetter å drive utgangen til feilen er null. Når feilen når null, slutter integral-leddet å vokse, og systemet stabiliseres.\n",
    "\n",
    "Sammen kombineres de tre leddene til en PID-kontroller, som er definert slik:\n",
    "\n",
    "$$u(t) = K_P e(t) + K_I \\int_0^t e(t) dt + K_D \\frac{∂ e(t)}{∂ t} $$"
   ]
  },
  {
   "cell_type": "markdown",
   "id": "c47adf47",
   "metadata": {},
   "source": [
    "### 4 a) Implementering av integral-leddet\n",
    "Vi ønsker å implementere integralet av feilen i simuleringen ved å bruke en enkel numerisk integrasjonsmetode, som et Riemann-sum: \n",
    "$$\\int_0^t e(t) dt \\approx \\sum_{i=0}^{n} e(t_i) \\Delta t$$\n",
    "Riemann-summen vil akkumuleres i en variabel, som må initialiseres til null, og deretter oppdateres i hver iterasjon av simuleringsløkken.\n",
    "\n",
    "Fyll ut funksjonen integration_component(K_I, Riemann_sum) nedenfor."
   ]
  },
  {
   "cell_type": "code",
   "execution_count": null,
   "id": "b96d8520",
   "metadata": {},
   "outputs": [],
   "source": [
    "def integration_component(K_I, Riemann_sum):\n",
    "    \"\"\"\n",
    "    Integral term for a PID controller: K_I ⋅ ∑ e(t)⋅Δt\n",
    "    \"\"\"\n",
    "    return ..."
   ]
  },
  {
   "cell_type": "markdown",
   "id": "414ac776",
   "metadata": {},
   "source": [
    "### 4 b) Simulering av PID-kontrolleren\n",
    "Nå som du har implementert alle nødvendige funksjoner for PID-kontrolleren, skal du kunne simulere dronens bevegelse ved å bruke PID-kontrolleren kombinert med Euler-Cromer-metoden."
   ]
  },
  {
   "cell_type": "code",
   "execution_count": null,
   "id": "5060b3a5",
   "metadata": {},
   "outputs": [],
   "source": [
    "# Initialiser systemet\n",
    "K_P = ...  # proporsjonal forsterkning\n",
    "K_D = ...   # derivasjonsforsterkning\n",
    "K_I = ...  # integral forsterkning\n",
    "\n",
    "position = np.zeros(n)  # posisjon\n",
    "velocity = np.zeros(n)  # hastighet\n",
    "accelerations = np.zeros(n)  # akselerasjon\n",
    "position[0] = start_position  # sett initial posisjon\n",
    "velocity[0] = start_velocity  # sett initial hastighet\n"
   ]
  },
  {
   "cell_type": "code",
   "execution_count": null,
   "id": "bb99e2b6",
   "metadata": {},
   "outputs": [],
   "source": [
    "# Euler-Cromer for numerisk integrasjon with PID control\n",
    "previous_error = ...  # initialize previous error\n",
    "Riemann_sum = 0 # initialize riemann sum\n",
    "\n",
    "for i in range(1, n):\n",
    "    # Regn ut feilen og Riemann-summen iterativt\n",
    "    \n",
    "    # Regn ut PID komponentene og bruk Euler cromer iterasjon\n",
    "\n",
    "    # oppdater feilen for neste iterasjon\n",
    "    ..."
   ]
  },
  {
   "cell_type": "code",
   "execution_count": null,
   "id": "559c70c9",
   "metadata": {},
   "outputs": [],
   "source": [
    "# Plot resultatene\n"
   ]
  },
  {
   "cell_type": "markdown",
   "id": "6d78d66e",
   "metadata": {},
   "source": [
    "Forhåpentligvis har du nå sett en betydelig forbedring i dronens stabilitet. Din PID-kontroller bør nå kunne holde dronen stabilt på ønsket høyde.\n",
    "\n",
    "Prøv nå å justere verdiene for $K_P$, $K_I$ og $K_D$ for å se hvordan de påvirker systemets respons. Du kan også eksperimentere med å endre målhøyden og observere hvordan kontrolleren reagerer på ulike ønskede høyder."
   ]
  },
  {
   "cell_type": "markdown",
   "id": "2be48693",
   "metadata": {},
   "source": [
    "## 5. Legg til tilfeldige effekter\n",
    "I den virkelige verden er det ofte tilfeldige effekter som kan påvirke stabiliteten til dronen. For eksempel kan vindkast dytte dronen opp eller ned, og vi må justere thrusten deretter. I denne oppgaven skal vi legge til en tilfeldig effekt i simuleringen for å se hvordan PID-kontrolleren reagerer på dette.\n",
    "\n",
    "Vi har laget noen eksempelfunksjoner for å simulere effektene som er listet opp nedenfor. Prøv å implementere dem i simuleringen din for å se hvordan PID-kontrolleren reagerer. Du kan også lage dine egne tilfeldige effekter og observere kontrollerens respons.\n",
    "\n",
    "### Eksempler:\n",
    "- Vindkast\n",
    "- Luftmotstand\n",
    "- Bevegelig målhøyde"
   ]
  },
  {
   "cell_type": "markdown",
   "id": "6f072347",
   "metadata": {},
   "source": [
    "### 5 a) Fritt-legeme-diagram med tilfeldige effekter\n",
    "Før du implementerer effektene, tegn først et fritt-legeme-diagram av dronen som inkluderer de tilfeldige effektene du ønsker å utforske. Hvordan endrer disse effektene kreftene som virker på dronen, og hvordan påvirker de thrust-kraften som PID-kontrolleren må påføre?"
   ]
  },
  {
   "cell_type": "markdown",
   "id": "26141df8",
   "metadata": {},
   "source": [
    "*Plasser diagrammet her*"
   ]
  },
  {
   "cell_type": "code",
   "execution_count": null,
   "id": "890e5f7d",
   "metadata": {},
   "outputs": [],
   "source": [
    "def drag_force(v, drag_coeff):\n",
    "    \"\"\"\n",
    "    Calculates the drag force acting on the drone.\n",
    "    \"\"\"\n",
    "    return -drag_coeff * v\n",
    "\n",
    "def wind_force(wind_amplitude):\n",
    "    \"\"\"\n",
    "    Randomly generates a wind\n",
    "    \"\"\"\n",
    "    return np.random.uniform(-wind_amplitude, wind_amplitude)\n"
   ]
  },
  {
   "cell_type": "code",
   "execution_count": null,
   "id": "4864f534",
   "metadata": {},
   "outputs": [],
   "source": [
    "## bevegende mål\n",
    "def moving_target(t):\n",
    "    \"\"\"\n",
    "    Example function of a moving target that changes over time.\n",
    "    \"\"\"\n",
    "    return 10.0 + 5.0 * np.sin(1.0 * t) * np.exp(-0.09 * t)\n",
    "\n",
    "#plot målet\n",
    "moving_targets = moving_target(T)\n",
    "plt.figure(figsize=(10, 5))\n",
    "plt.plot(T, moving_targets, label='Moving Setpoint', color='green')\n",
    "plt.title('Moving Setpoint vs Time')\n",
    "plt.xlabel('Time (s)')\n",
    "plt.ylabel('Setpoint (m)')\n",
    "plt.legend()\n",
    "plt.grid()\n",
    "plt.show()"
   ]
  }
 ],
 "metadata": {
  "kernelspec": {
   "display_name": "myenv",
   "language": "python",
   "name": "python3"
  },
  "language_info": {
   "codemirror_mode": {
    "name": "ipython",
    "version": 3
   },
   "file_extension": ".py",
   "mimetype": "text/x-python",
   "name": "python",
   "nbconvert_exporter": "python",
   "pygments_lexer": "ipython3",
   "version": "3.12.7"
  }
 },
 "nbformat": 4,
 "nbformat_minor": 5
}
