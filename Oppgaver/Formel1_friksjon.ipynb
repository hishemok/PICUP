{
 "cells": [
  {
   "cell_type": "markdown",
   "id": "1b8e84f9",
   "metadata": {},
   "source": [
    "## Formel 1 Friksjon Analyse"
   ]
  },
  {
   "cell_type": "markdown",
   "id": "5bf783a9",
   "metadata": {},
   "source": [
    "### Læringsmål\n",
    "- Bruke virkelige data til å beregne hastighet, akselerasjon og krumming (**Oppgave 1**)\n",
    "- Bruke klassisk mekanikk til å estimere friksjonskoeffisienter (**Oppgave 2**)\n",
    "- Bygg og forbedre en modell for fysikken som inngår (**Oppgave 2**, **Oppgave 3**)\n",
    "- Sammenligne fysikkbaserte prediksjoner med ingeniørmessige realiteter (**Oppgave 2**, **Oppgave 3**, **Oppgave 4**)"
   ]
  },
  {
   "cell_type": "markdown",
   "id": "00f47529",
   "metadata": {},
   "source": [
    "## Introduksjon\n",
    "\n",
    "Hva får en Formel 1 bil til å holde seg klistret til veien når den suser gjennom svingene i vanvittige hastigheter, hastigheter som ville sendt en vanlig bil rett av banen? Er det dekkene? Førernes ferdigheter? Eller kanskje noe helt annet?\n",
    "\n",
    "I dette prosjektet skal vi dykke ned i Formel 1 racingens høyhastighetsverden. Ikke som tilskuere, men som dataforskere og fysikere. Ved hjelp av ekte telemetridata fra den britiske Grand Prix i 2025 skal vi analysere hvordan noen av verdens beste førere håndterer sving 15 på Silverstone – en av de raskeste og mest krevende svingene i sporten.\n",
    "\n",
    "Du skal beregne hvor raskt bilene kjører, hvor skarpt de svinger, og hvor mye veigrep dekkene må generere for å unngå å skli av banen. Underveis bygger du en fysikkbasert modell for dekkgrep helt fra bunnen av, med klassisk mekanikk som utgangspunkt, og utvikler modellen trinn for trinn mot en mer komplett forståelse.\n",
    "\n",
    "Dette prosjektet handler ikke bare om regning. Det handler om å forstå den grunnleggende fysikken som gjør det mulig for disse bilene å ta svinger i ekstreme hastigheter. Du starter med en enkel modell basert på Newtons lover og beregner hvilken friksjonskoeffisient som kreves for å komme trygt gjennom svingen. For å forstå hvordan disse bilene trosser grensene for vanlig kjøring, vil du også lære hvordan aerodynamikk fundamentalt endrer spillet. Ved å bygge en enkel modell for hvordan nedoverkraft (downforce) påvirker dekkgrep, vil du skape et mer presist og fysikkbasert bilde av hva som faktisk gjør det mulig for en F1-\\ bil å takle slike hastigheter i svingene.\n",
    "\n",
    "Dette er ikke bare en dataøvelse, men en reise gjennom modellbygging, vitenskapelig tenkning og anvendt fysikk – alt pakket inn i motorsportens rå spenning."
   ]
  },
  {
   "cell_type": "markdown",
   "id": "171b17a1",
   "metadata": {},
   "source": [
    "![British Grand Prix Circuit with Corners](Racing_track.png)"
   ]
  },
  {
   "cell_type": "markdown",
   "id": "a91e4d82",
   "metadata": {},
   "source": [
    "## Importere data\n",
    "I den første delen av prosjektet skal vi bruke data fra Lando Norris sin bil under runde 49. Dette var den raskeste runden til den raskeste føreren under den britiske Grand Prix i 2025.\n",
    "\n",
    "Dataene er lagret i en CSV-fil med navnet `NOR.csv`. Når filen lastes inn, vil du få en \"dictionary\" med to keys: `time` og `distance`. Key-en `time` inneholder en liste med tidsstempler for hvert datapunkt, og `distance` inneholder en liste med distanser som bilen har tilbakelagt ved hvert tidspunkt."
   ]
  },
  {
   "cell_type": "code",
   "execution_count": null,
   "id": "39d3ccb4",
   "metadata": {},
   "outputs": [],
   "source": [
    "import numpy as np\n",
    "import matplotlib.pyplot as plt\n",
    "import pandas as pd\n",
    "\n",
    "df = pd.read_csv(\"NOR.csv\")\n",
    "\n",
    "Norris_data = df.to_dict(\"list\")\n",
    "for key in Norris_data:\n",
    "    Norris_data[key] = np.array(Norris_data[key])"
   ]
  },
  {
   "cell_type": "markdown",
   "id": "0684c18e",
   "metadata": {},
   "source": [
    "## 1) Finne hastigheter\n",
    "I denne delen skal du beregne hastigheten til Lando Norris sin bil gjennom hele runden. Dette er første steg i analysen av hvordan bilens fart varierer mellom ulike segmenter av banen.\n",
    "\n",
    "Hovedfokuset vårt vil være sving 15, en høyhastighets høyresving. Som vist på bildet ovenfor, er denne svingen flankert av lange rettstrekninger på begge sider, noe som betyr at førerne går både inn og ut av svingen i svært høy fart. Det gjør den til et ideelt sted å studere dekkfriksjon, siden bilen må generere betydelig veigrep for å holde seg på banen uten å bremse særlig ned. Å forstå bilens hastighet gjennom denne delen er avgjørende for målet vårt om å beregne friksjonskoeffisienten som kreves for å ta svingen i høy hastighet."
   ]
  },
  {
   "cell_type": "markdown",
   "id": "21668674",
   "metadata": {},
   "source": [
    "### 1a) Sirkulær bevegelse\n",
    "\n",
    "For å starte analysen vår, vil vi tilnærme sving 15 som en halvsirkel. Selv om dette er en forenkling, lar det oss bruke fysikken for sirkulær bevegelse for å bedre forstå hvordan bilen holder sin bane gjennom svingen.\n",
    "\n",
    "Når et objekt beveger seg langs en sirkulær bane, opplever det sentripetalakselerasjon, som alltid peker mot sentrum av sirkelen. Formelen for denne akselerasjonen er:\n",
    "$$ a_c = \\frac{v^2}{r} $$\n",
    "\n",
    "For å produsere denne innoverrettede akselerasjonen, må en netto kraft virke på objektet, rettet mot sentrum. Denne kraften kalles sentripetalkraften, og i tilfellet med en bil på en flat bane, kommer den utelukkende fra statisk friksjon mellom dekkene og veibanen:\n",
    "$$ F_f = F_c = m a_c = m \\frac{v^2}{r} $$\n",
    "\n",
    "Med andre ord: friksjonen motarbeider ikke bilens bevegelse, men det er faktisk den som endrer retningen ved å trekke bilen innover mens den beveger seg fremover.\n",
    "\n",
    "Tegn et fritt-legeme-diagram (free body diagram) av bilen i sving 15. Inkluder hastigheten $v$ og friksjonskraften $F_f$ i diagrammet ditt."
   ]
  },
  {
   "cell_type": "markdown",
   "id": "63353ad7",
   "metadata": {},
   "source": [
    "*Plasser diagrammet ditt her:*"
   ]
  },
  {
   "cell_type": "markdown",
   "id": "85159f3c",
   "metadata": {},
   "source": [
    "### 1b) Hastighetsfunksjon\n",
    "Siden dataene vi har kun inneholder distansen bilen har tilbakelagt og tilhørende tidspunkter, ønsker vi å utvide dataene til å også inkludere hastigheten til bilen ved hvert tidspunkt. Vi beregner hastigheten ved å bruke numerisk derivasjon på dataene. Hastigheten ved hvert punkt kan tilnærmes med formelen:\n",
    "$$ v_i = \\frac{d_i - d_{i-1}}{t_i - t_{i-1}} $$\n",
    "hvor $v_i$ er hastigheten ved tid $t_i$, $d_i$ er distansen ved tid $t_i$, og $d_{i-1}$ er distansen ved forrige tidsskritt $t_{i-1}$.\n",
    "\n",
    "Lag en funksjon `find_velocity(distances, times)` som tar inn arrayene med distanser og tidspunkter, og returnerer et nytt array med beregnede hastigheter for hvert tidssteg.\n",
    "\n",
    "Bruk deretter denne funksjonen til å beregne hastigheten for føreren, og legg den til i den opprinnelige ordboken under en ny key kalt `\"velocity\"`.\n",
    "\n",
    "*Merk: $v_0$ er ikke definert, så du må håndtere denne situasjonen på en passende måte.*"
   ]
  },
  {
   "cell_type": "code",
   "execution_count": 2,
   "id": "047b2420",
   "metadata": {},
   "outputs": [
    {
     "name": "stdout",
     "output_type": "stream",
     "text": [
      "dict_keys(['time', 'distance', 'velocity'])\n"
     ]
    }
   ],
   "source": [
    "def find_velocity(distances: np.ndarray, times: np.ndarray) -> np.ndarray:\n",
    "    \"\"\"\n",
    "    Velocities are calculated as the time derivative of the distance data.\n",
    "\n",
    "    Parameters:\n",
    "    -----------\n",
    "    distances (np.ndarray): Array of distances covered by the racer at different time intervals.\n",
    "    times (np.ndarray): Array of time intervals corresponding to the distance data.\n",
    "\n",
    "    Returns:\n",
    "    -----------\n",
    "    velocities (np.ndarray): Array of calculated velocities for the racer.\n",
    "    \"\"\"\n",
    "    \n",
    "    # Din implementasjon her\n",
    "\n",
    "\n",
    "    return ...\n",
    "\n",
    "# Ekstrakter distanse og tid fra Norris_data\n",
    "distance = Norris_data[\"distance\"]  # m \n",
    "time = ... \n",
    "\n",
    "#Lag en ny key i Norris_data for hastighet\n",
    "Norris_data[\"velocity\"] = find_velocity(distance, time) \n",
    "print(Norris_data.keys()) #print alle keys i Norris_data for å se at \"velocity\" er lagt til"
   ]
  },
  {
   "cell_type": "markdown",
   "id": "f30bb566",
   "metadata": {},
   "source": [
    "### 1c) Sving 15\n",
    "Nå som vi har hastighetsdataene, kan vi fokusere på sving 15. Vi vil hente ut relevante datapunkter for sving 15 og analysere hastighetene på disse punktene.\n",
    "\n",
    "I denne underseksjonen skal du plotte bilens hastighet gjennom hele sving 15. Dette vil hjelpe oss å visualisere hvordan bilens fart endres mens den kjører gjennom svingen."
   ]
  },
  {
   "cell_type": "code",
   "execution_count": null,
   "id": "6f5c6836",
   "metadata": {},
   "outputs": [],
   "source": [
    "start_of_corner_15 = 4840#m \n",
    "end_of_corner_15 = 5150#m \n",
    "\n",
    "\n",
    "# Ekstrakter distanse og hastighet fra Norris_data\n",
    "distances = ...#m\n",
    "velocities = ...#m/s\n",
    "\n",
    "\n",
    "start_idx = np.where(distances >= start_of_corner_15)[0][0]\n",
    "end_idx = np.where(distances <= end_of_corner_15)[0][-1]\n",
    "\n",
    "## Valgfritt å bruke hvis du vil se hastighetsprofilen før og etter svingen også\n",
    "## Hvis du gjør det, sørg for å visualisere hvor svingen starter og slutter\n",
    "into_corner_15 = np.where(distances >= 4500)[0][0] # Tilfeldig distanse før svingen (4500 meter inn i runden)\n",
    "out_of_corner_15 = np.where(distances <= 5500)[0][-1] # Tilfeldig distanse etter svingen (5500 meter inn i runden)\n",
    "\n",
    "# Slice distansene og hastighetene for sving 15\n",
    "distance_slice = ...\n",
    "velocity_slice = ...\n",
    "\n",
    "plt.figure(figsize=(10, 6))\n",
    "\n",
    "# Plot her \n",
    "\n",
    "\n",
    "plt.title(f\"Velocity Profile for Lando Norris on Lap 49\")\n",
    "plt.xlabel(\"Distance (m)\")\n",
    "plt.ylabel(\"Velocity (m/s)\")\n",
    "plt.legend()\n",
    "plt.grid()\n",
    "plt.show()\n"
   ]
  },
  {
   "cell_type": "markdown",
   "id": "e9075914",
   "metadata": {},
   "source": [
    "### 1d) Gjennomsnittshastighet\n",
    "Før vi går videre til dekkfriksjonen, ønsker vi å finne en tilnærmet gjennomsnittshastighet for sving 15.\n",
    "\n",
    "Bruk indeksene `start_idx` og `end_idx` fra forrige steg til å beregne gjennomsnittshastigheten til Lando Norris sin bil i sving 15"
   ]
  },
  {
   "cell_type": "code",
   "execution_count": null,
   "id": "7883e3f3",
   "metadata": {},
   "outputs": [],
   "source": [
    "average_velocity = ...\n",
    "\n",
    "print(f\"Average velocity in corner 15: {average_velocity:.2f} m/s\")"
   ]
  },
  {
   "cell_type": "markdown",
   "id": "c368571c",
   "metadata": {},
   "source": [
    "## 2) Dekkfriksjon\n",
    "Nå som vi har bilens hastighet, kan vi snart starte oppdraget vårt med å finne friksjonskoeffisientene til dekkene.\n",
    "\n",
    "For å gjøre dette, må vi forenkle situasjonen med noen rimelige antakelser:\n",
    "\n",
    "1. Sving 15 er en perfekt halvsirkel. Dette betyr at bilen holder en konstant krumningsradius gjennom hele svingen, noe som lar oss bruke standardformlene for sentripetalakselerasjon og -kraft.\n",
    "\n",
    "2. Føreren kjører med maksimal hastighet gjennom svingen, noe som betyr at bilen befinner seg på grensen av det dekkene klarer å gripe.\n",
    "\n",
    "3. Banen er flat, altså uten dosering i svingen.\n",
    "\n",
    "Med disse antakelsene kan vi gå videre og beregne friksjonskoeffisienten $μ$ ved å knytte friksjonskraften til den sentripetale kraften."
   ]
  },
  {
   "cell_type": "markdown",
   "id": "612be666",
   "metadata": {},
   "source": [
    "### 2a) Finne $μ$\n",
    "I denne delen ønsker vi å finne en formel for friksjonskoeffisienten $μ$.\n",
    "\n",
    "Den første antakelsen vi gjorde, lar oss bruke formelen for sentripetalakselerasjon $a_c = \\frac{v^2}{r}$ for å finne friksjonskoeffisienten $μ$.\n",
    "Siden føreren kjører med maksimal hastighet som dekkene kan håndtere uten å miste grep, kan vi si at den sentripetale kraften, $F_c = m a_c$, er lik friksjonskraften, $F_f = μ N$.\n",
    "\n",
    "Finn et uttrykk for friksjonskoeffisienten $μ$, avhengig av gjennomsnittshastigheten, radiusen og massen."
   ]
  },
  {
   "cell_type": "markdown",
   "id": "8324a3ed",
   "metadata": {},
   "source": [
    "*Løsning:*"
   ]
  },
  {
   "cell_type": "markdown",
   "id": "2aa2eb8e",
   "metadata": {},
   "source": [
    "### 2b) Lag en funksjon for å beregne friksjonskoeffisienten\n",
    "Som du kan se fra formelen over, trenger vi å kjenne til hastigheten $v$ gjennom svingen, gravitasjonsakselerasjonen $g$, og radiusen $r$ til svingen for å kunne beregne friksjonskoeffisienten $μ$.\n",
    "\n",
    "Vi har allerede gjennomsnittshastigheten tilgjengelig, og heldigvis for oss ble gravitasjonsakselerasjonen fastsatt av den tredje generalkonferansen for mål og vekt i 1901 til å være\n",
    "$g = 9.81 , \\text{m/s}^2$ [Standard gravity](https://en.wikipedia.org/wiki/Standard_gravity).\n",
    "\n",
    "Så først må du finne radiusen til svingen. Bruk formelen for omkretsen av en sirkel, $C = 2 \\pi r$, sammen med det faktum at sving 15 er en halvsirkel med lengde $L$, for å finne radiusen $r$ til svingen. Lengden er distansen mellom start- og sluttpunktet for sving 15, som ble gitt i forrige seksjon.\n",
    "\n",
    "Lag deretter en funksjon `mu(v, r)` som tar inn gjennomsnittshastigheten gjennom svingen og radiusen til svingen, og returnerer friksjonskoeffisienten $μ$.\n",
    "\n",
    "*Merk: Du kan bruke np.pi for verdien av π.*"
   ]
  },
  {
   "cell_type": "code",
   "execution_count": null,
   "id": "5fe5691a",
   "metadata": {},
   "outputs": [],
   "source": [
    "g = 9.81 # Gravitasjons akselerasjon i m/s^2\n",
    "length_of_corner = ... # Lengden på svingen i meter\n",
    "radius_of_corner = ... # Radiusen til svingen i meter\n",
    "\n",
    "def mu(v: float, r: float) -> float:\n",
    "    \"\"\"Calculate the coefficient of friction required to maintain a given velocity in a circular path.\n",
    "    \n",
    "    Parameters:\n",
    "    ----------\n",
    "    v (float): Velocity in m/s.\n",
    "    r (float): Radius of the circular path in meters.\n",
    "\n",
    "    Returns:\n",
    "    -------\n",
    "    μ (float): Coefficient of friction required.\n",
    "\n",
    "    \"\"\"\n",
    "    return ...\n",
    "\n"
   ]
  },
  {
   "cell_type": "markdown",
   "id": "2788da4b",
   "metadata": {},
   "source": [
    "### 2c) Beregn friksjonskoeffisienten\n",
    "Ved å bruke gjennomsnittshastigheten gjennom sving 15 og radiusen til svingen, beregn friksjonskoeffisienten $μ$."
   ]
  },
  {
   "cell_type": "code",
   "execution_count": null,
   "id": "cf3fc7ba",
   "metadata": {},
   "outputs": [],
   "source": [
    "coefficient_of_friction = ...\n",
    "\n",
    "print(f\"Coefficient of friction for corner 15: {coefficient_of_friction:.2f}\")"
   ]
  },
  {
   "cell_type": "markdown",
   "id": "f04e939f",
   "metadata": {},
   "source": [
    "Du legger kanskje merke til at friksjonskoeffisienten er ganske høy. Vi forstår at F1-biler er konstruert for å ha ekstremt godt veigrep, men denne verdien virker urealistisk. La oss gå videre til neste seksjon for å finne ut hvorfor."
   ]
  },
  {
   "cell_type": "markdown",
   "id": "be437ddc",
   "metadata": {},
   "source": [
    "## 3) Forbedring av modellen\n",
    "I forrige seksjon estimerte vi friksjonskoeffisienten for sving 15. Verdien vi kom frem til er imidlertid trolig urealistisk høy. Det forteller oss at modellen vår mangler noe viktig.\n",
    "\n",
    "Det er én ting ved racerbiler vi ikke kan overse, og det er nedoverkraften (downforce). Kanskje det mest kjente kjennetegnet ved en F1-bil er den enorme bakvingen, som brukes til å skape nettopp nedoverkraft. Nedoverkraften er en kraft som presser bilen ned mot asfalten, øker dekkenes veigrep, og gjør det mulig for bilen å kjøre raskere gjennom svingene.\n",
    "\n",
    "Med andre ord: bilen stoler ikke bare på sin egen vekt for å få grep, den bruker også aerodynamisk trykk.\n",
    "I denne seksjonen skal vi utvide modellen vår til å ta hensyn til nedoverkraften, og undersøke hvordan dette påvirker den beregnede friksjonskoeffisienten. Dette vil gi oss et mer realistisk og fysikkbasert estimat på dekkgrep i høye hastigheter."
   ]
  },
  {
   "cell_type": "markdown",
   "id": "ba2f1dd6",
   "metadata": {},
   "source": [
    "### 3a) Nedoverkraft (downforce)\n",
    "Tidligere antok vi at friksjonskraften alene stod for å gi den sentripetale kraften som trengs for å holde bilen i en sirkulær bane. Men racerbiler, spesielt F1-biler, genererer betydelig nedoverkraft på grunn av sin aerodynamiske utforming. Denne kraften øker normalkraften, og dermed øker også den maksimale friksjonskraften dekkene kan produsere uten å miste grep.\n",
    "\n",
    "Dermed er ikke normalkraften $N$ lenger bare bilens vekt ($mg$), men inkluderer også nedoverkraften $F_d$:\n",
    "$$ N = mg + F_d $$\n",
    "\n",
    "hvor $F_D$ er den aerodynamiske nedoverkraften. En forenklet modell for nedoverkraften er:\n",
    "$$F_d = C_D v²$$\n",
    "\n",
    "hvor $C_D$ er en effektiv nedoverkraftkoeffisient, og $v$ er hastigheten.\n",
    "\n",
    "Med denne nye definisjonen av normalkraften, finn et nytt uttrykk for friksjonskoeffisienten $μ$ som inkluderer nedoverkraften.\n"
   ]
  },
  {
   "cell_type": "markdown",
   "id": "83d41e25",
   "metadata": {},
   "source": [
    "*Løsning:*"
   ]
  },
  {
   "cell_type": "markdown",
   "id": "6acf5881",
   "metadata": {},
   "source": [
    "### 3b) Lag en funksjon for å beregne den nye friksjonskoeffisienten\n",
    "\n",
    "Nå er det på tide å lage en forbedret funksjon for friksjonskoeffisienten som tar hensyn til nedoverkraft.\n",
    "\n",
    "La oss redefinere funksjonen `mu(v, r, C_D, m)` slik at den inkluderer nedoverkraftleddet. Den nye funksjonen skal ta inn nedoverkraftkoeffisienten $C_D$, bilens masse $m$, radiusen til svingen $r$, og gjennomsnittshastigheten $v$.\n",
    "\n",
    "Bilens masse, inkludert føreren, er omtrent 800 kg, og nedoverkraftkoeffisienten $C_D$ er omtrent 3.2, selv om den kan variere mellom ulike biler.\n"
   ]
  },
  {
   "cell_type": "code",
   "execution_count": null,
   "id": "f221e0dc",
   "metadata": {},
   "outputs": [],
   "source": [
    "def mu(v: float, r: float, C_D: float = 3.2, m: float = 800) -> float:\n",
    "    \"\"\"Calculate the coefficient of friction required to maintain a given velocity in a circular path.\n",
    "    \n",
    "    Parameters:\n",
    "    ----------\n",
    "    v (float): Velocity in m/s.\n",
    "    r (float): Radius of the circular path in meters.\n",
    "    C_D (float): Drag coefficient (default is 3.2).\n",
    "    m (float): Mass of the car in kg (default is 800).\n",
    "    \n",
    "\n",
    "    Returns:\n",
    "    -------\n",
    "    μ (float): Coefficient of friction required.\n",
    "    \"\"\"\n",
    "    return ..."
   ]
  },
  {
   "cell_type": "markdown",
   "id": "a5fc084c",
   "metadata": {},
   "source": [
    "### 3c) Beregn den nye friksjonskoeffisienten\n",
    "Nå som vi har oppdatert mu-funksjonen til å inkludere nedoverkraft, kan du bruke den og se om den nye friksjonskoeffisienten er mer realistisk."
   ]
  },
  {
   "cell_type": "code",
   "execution_count": null,
   "id": "2c4dbc38",
   "metadata": {},
   "outputs": [],
   "source": [
    "coefficient_of_friction = ...\n",
    "\n",
    "print(f\"Coefficient of friction for corner 15: {coefficient_of_friction:.2f}\")"
   ]
  },
  {
   "cell_type": "markdown",
   "id": "6de297d5",
   "metadata": {},
   "source": [
    "Sannsynligvis vil du ha funnet ut at den nye friksjonskoeffisienten er mye lavere enn den forrige. Dette skyldes at nedoverkraften øker dekkens grep, noe som gjør at bilen kan kjøre raskere gjennom svingene uten å skli.\n",
    "\n",
    "Prøv å søke på nettet etter gjennomsnittlig friksjonskoeffisient for F1-dekk, og se om resultatet ditt ligger i samme størrelsesorden."
   ]
  },
  {
   "cell_type": "markdown",
   "id": "edcb49be",
   "metadata": {},
   "source": [
    "## 4) Friksjonskoeffisient for alle førerne\n",
    "Nå som vi har en funksjon for å beregne friksjonskoeffisienten, kan vi bruke den på alle førerne som kvalifiserte seg til finaleløpene i British Grand Prix 2025.\n",
    "\n",
    "Nedenfor har vi importert dataene for alle førerne. Dette datasettet er en nestet ordbok (\"nested dictionary\"), der hver nøkkel er navnet på en fører, og for hver fører finnes det en ordbok med nøklene `distance` og `time`, som inneholder tilbakelagt distanse og tid ved hvert tidspunkt, henholdsvis."
   ]
  },
  {
   "cell_type": "code",
   "execution_count": null,
   "id": "01037448",
   "metadata": {},
   "outputs": [],
   "source": [
    "driver_codes = ['VER', 'TSU', 'HUL', 'PIA', 'NOR', 'SAI', 'OCO', 'ALO', 'LEC', 'BEA', 'HAM', 'ALB', 'STR', 'RUS', 'GAS']\n",
    "Racing_data = {}\n",
    "\n",
    "for code in driver_codes:\n",
    "    df = pd.read_csv(f\"Racing_data/{code}.csv\") # Les inn data for hver fører\n",
    "    Racing_data[code] = { #Lag en ordbok for hver fører\n",
    "        \"time\": df[\"time\"].to_numpy(),\n",
    "        \"distance\": df[\"distance\"].to_numpy()\n",
    "    }\n",
    "\n",
    "print(Racing_data.keys()) # hver nøkkel er en førerkode, og verdien er en ordbok med tid- og distanse-arrays"
   ]
  },
  {
   "cell_type": "markdown",
   "id": "6afae63c",
   "metadata": {},
   "source": [
    "For de av oss som ikke er kjent med forkortelsene for førernavnene, her er en tabell med fullstendige navn på førerne:\n",
    "\n",
    "|Fullt navn | Forkortelse |\n",
    "|------------|-------|\n",
    "|Lando Norris| NOR   |\n",
    "|Lance Stroll| STR   |\n",
    "|Nico Hulkenberg| HUL   |\n",
    "|George Russell| RUS   |\n",
    "|Charles Leclerc| LEC   |\n",
    "|Oliver Bearman| BEA   |\n",
    "|Oscar Piastri| PIA   |\n",
    "|Max Verstappen| VER   |\n",
    "|Lewis Hamilton| HAM   |\n",
    "|Pierre Gasly| GAS   |\n",
    "|Fernando Alonso| ALO   |\n",
    "|Carlos Sainz| SAI   |\n",
    "|Alex Albon| ALB   |\n",
    "|Esteban Ocon| OCO   |"
   ]
  },
  {
   "cell_type": "markdown",
   "id": "816b8cd4",
   "metadata": {},
   "source": [
    "### 4a) Fnn alle hastigheter\n",
    "Nå at vi har dataene, kan vi bruke `find_velocity(data)`-funksjonen vi laget tidligere for å finne hastighetene for alle førerne.\n"
   ]
  },
  {
   "cell_type": "code",
   "execution_count": null,
   "id": "b335ab38",
   "metadata": {},
   "outputs": [],
   "source": [
    "\n",
    "for racer_key in Racing_data.keys():\n",
    "    distance = ...\n",
    "    time = ...\n",
    "    Racing_data[racer_key][\"velocity\"] = ...\n"
   ]
  },
  {
   "cell_type": "markdown",
   "id": "81fe870f",
   "metadata": {},
   "source": [
    "### 4b) Finn gjennomsnittshastighetene\n",
    "\n",
    "I denne seksjonen vil vi beregne gjennomsnittshastighetene for hver fører gjennom hele sving 15. Hvilken racer var den raskeste gjennom sving 15?\n"
   ]
  },
  {
   "cell_type": "code",
   "execution_count": null,
   "id": "82bf628a",
   "metadata": {},
   "outputs": [],
   "source": [
    "for racer_key in Racing_data.keys():\n",
    "    distances = ...\n",
    "    velocities = ...\n",
    "    \n",
    "    start_idx = np.where(distances >= start_of_corner_15)[0][0]\n",
    "    end_idx = np.where(distances <= end_of_corner_15)[0][-1]\n",
    "    \n",
    "    average_velocity = ...\n",
    "    \n",
    "    print(f\"Average velocity in corner 15 for {racer_key}: {average_velocity:.2f} m/s\")\n",
    "\n",
    "    ### Lagre en ny key i Racing_data for gjennomsnittshastighet\n",
    "    ### Hint: Du kan lage en ny nøkkel ved å: Racing_data[racer_key][\"new_key\"] = new_data\n"
   ]
  },
  {
   "cell_type": "markdown",
   "id": "bf8a0697",
   "metadata": {},
   "source": [
    "*Løsning:*"
   ]
  },
  {
   "cell_type": "markdown",
   "id": "1e006806",
   "metadata": {},
   "source": [
    "### 4c) Beregn friksjonskoeffisientene\n",
    "Nå har vi funnet gjennomsnittshastighetene for alle førerne for å se hvem som var raskest gjennom sving 15.\n",
    "Det neste vi vil gjøre, er å beregne friksjonskoeffisientene for alle førerne, ved å bruke mu-funksjonen vi laget, med gjennomsnittshastighetene vi nettopp fant.\n",
    "\n",
    "Finn friksjonskoeffisientene for alle førerne, samt gjennomsnittet og standardavviket for friksjonskoeffisientene mellom alle førerne.\n",
    "\n",
    "*Tips: Du kan bruke np.mean() og np.std() fra NumPy-biblioteket for å beregne gjennomsnitt og standardavvik av friksjonskoeffisientene.*"
   ]
  },
  {
   "cell_type": "code",
   "execution_count": null,
   "id": "902a0d10",
   "metadata": {},
   "outputs": [],
   "source": [
    "mus = []\n",
    "for racer_key in Racing_data.keys():\n",
    "    #ekstrakt data fra forrige steg\n",
    "    \n",
    "    #Finn friksjonskoeffisienten ved å bruke mu-funksjonen \n",
    "\n",
    "    # Lagre friksjonskoeffisienten i listen\n",
    "\n",
    "    print(f\"Coefficient of friction for {racer_key}: {coefficient_of_friction:.2f}\")\n",
    "\n",
    "mean_mu = ...\n",
    "std_mu = ...\n",
    "\n",
    "print(f\"Average coefficient of friction for all racers: {mean_mu:.2f} ± {std_mu:.2f}\")"
   ]
  }
 ],
 "metadata": {
  "kernelspec": {
   "display_name": "myenv",
   "language": "python",
   "name": "python3"
  },
  "language_info": {
   "codemirror_mode": {
    "name": "ipython",
    "version": 3
   },
   "file_extension": ".py",
   "mimetype": "text/x-python",
   "name": "python",
   "nbconvert_exporter": "python",
   "pygments_lexer": "ipython3",
   "version": "3.12.7"
  }
 },
 "nbformat": 4,
 "nbformat_minor": 5
}
